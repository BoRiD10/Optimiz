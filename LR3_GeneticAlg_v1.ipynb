{
 "cells": [
  {
   "cell_type": "markdown",
   "metadata": {},
   "source": [
    "<html>\n",
    "<head>\n",
    "\t<title></title>\n",
    "</head>\n",
    "<body>\n",
    "<h1 style=\"text-align: center;line-height: 120%;\">ФЕДЕРАЛЬНОЕ ГОСУДАРСТВЕННОЕ БЮДЖЕТНОЕ ОБРАЗОВАТЕЛЬНОЕ УЧРЕЖДЕНИЕ ВЫСШЕГО ОБРАЗОВАНИЯ НАЦИОНАЛЬНЫЙ ИССЛЕДОВАТЕЛЬСКИЙ УНИВЕРСИТЕТ «МОСКОВСКИЙ ЭНЕРГЕТИЧЕСКИЙ ИНСТИТУТ» Кафедра «РЗиАЭ»</h1>\n",
    "<h2 style=\"text-align: center;line-height: 20%;\">Лабораторная работа №3</h2>\n",
    "\n",
    "<h3 style=\"text-align: center;line-height: 80%;\"><em>\"Генетический алгоритм\"</em></h3>\n",
    "\n",
    "<p style=\"text-align: right;line-height: 40%;\">Выполнил: студент группы Э-13м-19</p>\n",
    "\n",
    "<p style=\"text-align: right;line-height: 40%;\">Павлов И. А.</p>\n",
    "\n",
    "<p style=\"text-align: right;line-height: 40%;\">Принял: Грачева Н. П.</p>\n",
    "<h4 style=\"text-align: center;line-height: 100%;\"><em> Москва, 2020</em></h3>\n",
    "</body>\n",
    "</html>"
   ]
  },
  {
   "cell_type": "markdown",
   "metadata": {},
   "source": [
    "### Импорт библиотек необходимых для работы"
   ]
  },
  {
   "cell_type": "code",
   "execution_count": 1,
   "metadata": {},
   "outputs": [],
   "source": [
    "import random\n",
    "import time"
   ]
  },
  {
   "cell_type": "markdown",
   "metadata": {},
   "source": [
    "### Исходые данные"
   ]
  },
  {
   "cell_type": "markdown",
   "metadata": {},
   "source": [
    "В этой функции собираются наборы букв для каждого раздела"
   ]
  },
  {
   "cell_type": "code",
   "execution_count": 2,
   "metadata": {},
   "outputs": [],
   "source": [
    "def formData():\n",
    "    # Пустой массив для символов\n",
    "    Symbol = []\n",
    "    # Добавим в массив кириллицы\n",
    "    for i in range(1040, 1103):\n",
    "        Symbol.append(chr(i))\n",
    "    # Эти символы не подчиняются общему правилу, поэтому добавим их вручную \n",
    "    Symbol.append('ё')\n",
    "    Symbol.append('Ё')\n",
    "    Symbol.append(' ')\n",
    "    # Выбор набора данных в зависимости от раздела\n",
    "    if Part == 1:\n",
    "        return Symbol\n",
    "    if Part == 2:\n",
    "        # Добавим к русским буквам символы\n",
    "        for i in range(44, 47):\n",
    "            Symbol.append(chr(i))\n",
    "        Symbol.append('!')\n",
    "        Symbol.append(chr(171))\n",
    "        Symbol.append(chr(187))\n",
    "        Symbol.append(':')\n",
    "        Symbol.append(';')\n",
    "        Symbol.append('?')\n",
    "        return Symbol\n",
    "    if Part == 3:\n",
    "        # Добавление букв латинского алфавита\n",
    "        for i in range(65, 91):\n",
    "            Symbol.append(chr(i))\n",
    "        for i in range(97, 123):\n",
    "            Symbol.append(chr(i))\n",
    "        return Symbol"
   ]
  },
  {
   "cell_type": "markdown",
   "metadata": {},
   "source": [
    "### Идентификация ключа"
   ]
  },
  {
   "cell_type": "markdown",
   "metadata": {},
   "source": [
    "В этой функции определяем набор идентифицируемых символов"
   ]
  },
  {
   "cell_type": "code",
   "execution_count": 3,
   "metadata": {},
   "outputs": [],
   "source": [
    "def identification():\n",
    "    # Получаем из слова массив символов и его длину\n",
    "    key = list(Start_Key)\n",
    "    length_key = len(key)\n",
    "    return key, length_key"
   ]
  },
  {
   "cell_type": "markdown",
   "metadata": {},
   "source": [
    "### Формирование первой популяции"
   ]
  },
  {
   "cell_type": "markdown",
   "metadata": {},
   "source": [
    "В этой функции формируется популяция, состоящая из индивидов, которые имеют набор генов равный длине ключа. "
   ]
  },
  {
   "cell_type": "code",
   "execution_count": 4,
   "metadata": {},
   "outputs": [],
   "source": [
    "def population():\n",
    "    # Создание массива для популяции\n",
    "    AllWord = []\n",
    "    # Определение длины, для дальнейшего выбора случайного символа\n",
    "    Interval = len(Symbol)\n",
    "    # Цикл формирования популяции, где population_size - размер популяции\n",
    "    for i in range(0, population_size):\n",
    "        # Пустая строка для формирования индивида\n",
    "        Word = \"\"\n",
    "        # Цикл формирования индивида, где Lenght_Key - длина ключа\n",
    "        for j in range(0, Lenght_Key):\n",
    "            # Добавление рандомного символа\n",
    "            Word = Word + str(Symbol[random.randint(0, Interval - 1)])\n",
    "        AllWord.append(Word)\n",
    "    return AllWord"
   ]
  },
  {
   "cell_type": "markdown",
   "metadata": {},
   "source": [
    "### Основное тело алгоритма"
   ]
  },
  {
   "cell_type": "markdown",
   "metadata": {},
   "source": [
    "В этой функции происходит вычисление фитнесс функции, т.е. сравнение популяции с ключем, сортировка особей, где лучшие ставятся в начало, худшие в конец."
   ]
  },
  {
   "cell_type": "code",
   "execution_count": 5,
   "metadata": {},
   "outputs": [],
   "source": [
    "def Selection(AllWord):\n",
    "    # Создание словаря для записи индивида и его фитнес функции\n",
    "    Diction = {}\n",
    "    # Перебор п популяции\n",
    "    for j in AllWord:\n",
    "        # Начальное значение фитнес функции\n",
    "        Value = 0\n",
    "        # Разбиваем слово на символы\n",
    "        Word = list(j)\n",
    "        # Сравниваем по буквам с ключем и при каждом совпадении прибавляем единицу к фф\n",
    "        for i in range(0, Lenght_Key):\n",
    "            if Word[i] == Key[i]:\n",
    "                Value += 1\n",
    "        # Заполнение словаря\n",
    "        Diction[j] = Value\n",
    "    # Сортировка словаря от большего к меньшему\n",
    "    list_keys = sorted(Diction.items(), key=lambda kv: kv[1], reverse=True)\n",
    "    Diction = dict(list_keys)\n",
    "    # Получение лучшей особи\n",
    "    C = list_keys[0]\n",
    "    # Условие выхода из алгоритма\n",
    "    if C[1] == Lenght_Key:\n",
    "        print(\"You are Win!!\\n\" + \"You have: \" + str(C[0]))\n",
    "        return True, C[0]\n",
    "    # Если условие не достигнуто возвращаем словарь\n",
    "    else:\n",
    "        return False, Diction"
   ]
  },
  {
   "cell_type": "markdown",
   "metadata": {},
   "source": [
    "### Генерация новой популяции"
   ]
  },
  {
   "cell_type": "markdown",
   "metadata": {},
   "source": [
    "В этой функции происходит разделение популяции. первые 40% идет на размножение, 50% на мутацию и 10% нашествие инопланетных существ."
   ]
  },
  {
   "cell_type": "code",
   "execution_count": 6,
   "metadata": {},
   "outputs": [],
   "source": [
    "def generate_new_population(Diction):\n",
    "    # Создание массивов для всех \n",
    "    D = []\n",
    "    parents = []\n",
    "    Mutant = []\n",
    "    Alliens = []\n",
    "    # Определение границ фильтрации\n",
    "    len_parents = int(0.4 * len(Diction))\n",
    "    len_mutants = int(0.9 * len(Diction))\n",
    "    # Формирование массива слов, для этого достаем из словаря ключи\n",
    "    for key in Diction.keys():\n",
    "        D.append(key)\n",
    "    # Формирование родительских особей для дальнейшего скрещивания\n",
    "    for i in range(0, len_parents):\n",
    "        parents.append(D[i])\n",
    "    # Формирование набора особей для мутации\n",
    "    for j in range(len_parents, len_mutants):\n",
    "        Mutant.append(D[j])\n",
    "    # Формирование набора инопланетных существ\n",
    "    for k in range(len_mutants, len(D)):\n",
    "        Alliens.append(D[k])\n",
    "    # Запуск оперций изменения популяции\n",
    "    New_ind = reproduction(parents)\n",
    "    Mut_ind = mutation(Mutant)\n",
    "    All_ind = allien(Alliens)\n",
    "    # Формирование массива новой популяции\n",
    "    New_population = []\n",
    "    for i in range(0, len(New_ind)):\n",
    "        New_population.append(New_ind[i])\n",
    "    for j in range(0, len(Mut_ind)):\n",
    "        New_population.append(Mut_ind[j])\n",
    "    for k in  range(0, len(All_ind)):\n",
    "        New_population.append(All_ind[k])\n",
    "    return New_population"
   ]
  },
  {
   "cell_type": "markdown",
   "metadata": {},
   "source": [
    "### Оператор скрещивания"
   ]
  },
  {
   "cell_type": "markdown",
   "metadata": {},
   "source": [
    "В этой функции происходит скрещивание родительских особей и получение потомков"
   ]
  },
  {
   "cell_type": "code",
   "execution_count": 7,
   "metadata": {},
   "outputs": [],
   "source": [
    "def reproduction(Parents):\n",
    "    # Вероятность скрещивания\n",
    "    P = 0.7\n",
    "    # Перебор по массиву родителей\n",
    "    for k in range(0, len(Parents)):\n",
    "        # Рандомное число\n",
    "        rand = random.random()\n",
    "        # Выбор случайныз особей для скрещивания\n",
    "        i = random.randint(0, len(Parents) - 1)\n",
    "        j = random.randint(0, len(Parents) - 1)\n",
    "        # Если сллучайное число меньше вероятности, то скрещиваем\n",
    "        if rand < P:\n",
    "            ind1 = Parents[i]\n",
    "            ind2 = Parents[j]\n",
    "            # Делим слова на буквы\n",
    "            ind1 = list(ind1)\n",
    "            ind2 = list(ind2)\n",
    "            # Добавляем фиктивного индивида для обмена генами\n",
    "            ind3 = []\n",
    "            # Заполняем его\n",
    "            for h in ind1:\n",
    "                ind3.append(h)\n",
    "            # Определение случайной точки разрыва\n",
    "            r = random.randint(1, len(ind1))\n",
    "            for n in range(0, r):\n",
    "                # Обмен геннами\n",
    "                ind1[n] = ind2[n]\n",
    "                ind2[n] = ind3[n]\n",
    "            # Замена родительских особей потомками\n",
    "            Parents[i] = ''.join(ind1)\n",
    "            Parents[j] = ''.join(ind2)\n",
    "    return Parents"
   ]
  },
  {
   "cell_type": "markdown",
   "metadata": {},
   "source": [
    "### Оператор мутации"
   ]
  },
  {
   "cell_type": "markdown",
   "metadata": {},
   "source": [
    "В этом методе случайные гены меняются случайным образом"
   ]
  },
  {
   "cell_type": "code",
   "execution_count": 10,
   "metadata": {},
   "outputs": [],
   "source": [
    "def mutation(Mutant):\n",
    "    # Вероятность мутации гена\n",
    "    P = 0.4\n",
    "    # Интервал для выбора случайного гена\n",
    "    Interval = len(Symbol)\n",
    "    # Перебор по всем мутантам\n",
    "    for i in range(0, len(Mutant)):\n",
    "        # Разделение особи на гены\n",
    "        m = list(Mutant[i])\n",
    "        # Перебор по генам\n",
    "        for j in range(0, len(m)):\n",
    "            # Если вероятность больше случаного числа, то ген изменяется\n",
    "            if P > random.random():\n",
    "                m[j] = Symbol[random.randint(0, Interval - 1)]\n",
    "        # Замена старых особей на новых\n",
    "        Mutant[i] = ''.join(m)\n",
    "    return Mutant"
   ]
  },
  {
   "cell_type": "markdown",
   "metadata": {},
   "source": [
    "### Оператор инопланетного вторжения"
   ]
  },
  {
   "cell_type": "markdown",
   "metadata": {},
   "source": [
    "В этой функции слабые и не преспособленные особи захватываются инопланетянами и полностью меняют свой геном."
   ]
  },
  {
   "cell_type": "code",
   "execution_count": 11,
   "metadata": {},
   "outputs": [],
   "source": [
    "def allien(Alliens):\n",
    "    # Вероятность захвата\n",
    "    P = 0.5\n",
    "    # Интервал для выбора случайного гена\n",
    "    Interval = len(Symbol)\n",
    "    # Перебо по все захваченным особям\n",
    "    for i in range(0, len(Alliens)):\n",
    "        # Разделение особи на гены\n",
    "        a = list(Alliens[i])\n",
    "        # Если вероятность захвата больше случайного числа, то особь подвергается изменениям\n",
    "        if P > random.random():\n",
    "            # Перебор генов\n",
    "            for j in range(0, len(a)):\n",
    "                # Изменение гнеа\n",
    "                a[j] = Symbol[random.randint(0, Interval - 1)]\n",
    "        # Замена старых особей на новых        \n",
    "        Alliens[i] = ''.join(a)\n",
    "    return Alliens"
   ]
  },
  {
   "cell_type": "markdown",
   "metadata": {},
   "source": [
    "### Запуск алгоритма"
   ]
  },
  {
   "cell_type": "code",
   "execution_count": 15,
   "metadata": {},
   "outputs": [
    {
     "name": "stdout",
     "output_type": "stream",
     "text": [
      "You are Win!!\n",
      "You have: нога\n",
      "18\n",
      "Time: 0.09375\n"
     ]
    }
   ],
   "source": [
    "# Старт таймера\n",
    "StartTime = time.process_time()\n",
    "\n",
    "# Варианты заданий\n",
    "Start_Key = 'нога'\n",
    "# Start_Key = 'БЛоК'\n",
    "# Start_Key = 'В бреду, дескать!.. Ха-ха-ха! Он про весь вечер вчерашний знает! Про приезд матери не знал!.. А ведьма и число прописала карандашом!..'\n",
    "# Start_Key = 'Встретились в Crocus City холле'\n",
    "\n",
    "# Выбор набора символов\n",
    "Part = 1\n",
    "# Размер популяции\n",
    "population_size = 500\n",
    "# Разбиение ключа на слова\n",
    "k = Start_Key.split(\" \")\n",
    "# Если слов в ключе более одного\n",
    "if len(k) > 1:\n",
    "    mass = \"\"\n",
    "    # Перебор по словам\n",
    "    for i in range(0, len(k)):\n",
    "        # Определение ключа\n",
    "        Start_Key = k[i]\n",
    "        # Формирование генов и получение длины ключа \n",
    "        Key, Lenght_Key = identification()\n",
    "        # Формирование набора символов\n",
    "        Symbol = formData()\n",
    "        # Счетчик итераций\n",
    "        count = 1\n",
    "        # Формирование первой популяции\n",
    "        first_population = population()\n",
    "        # Получение результата селекции\n",
    "        Win, Dict = Selection(first_population)\n",
    "        # Пока не будет полного совпадение с ключем, выполняем селекцию\n",
    "        while not Win:\n",
    "            # Селекция новых популяций,первое значение Dict - новая популяция, второе значение Dict - текущая популяция\n",
    "            Win, Dict = Selection(generate_new_population(Dict))\n",
    "            count += 1\n",
    "        # Формирование фразы\n",
    "        mass += Dict + \" \"\n",
    "    print(mass)\n",
    "    # Останов таймера\n",
    "    EndTime = time.process_time()\n",
    "    Time = EndTime - StartTime\n",
    "    print(\"Time: \" + str(Time))\n",
    "# Если слов в ключе менее одного\n",
    "else:\n",
    "    Key, Lenght_Key = identification()\n",
    "    Symbol = formData()\n",
    "    count = 1\n",
    "    first_population = population()\n",
    "    Win, Dict = Selection(first_population)\n",
    "    while not Win:\n",
    "        Win, Dict = Selection(generate_new_population(Dict))\n",
    "        count += 1\n",
    "    print(count)\n",
    "    EndTime = time.process_time()\n",
    "    Time = EndTime - StartTime\n",
    "    print(\"Time: \" + str(Time))"
   ]
  },
  {
   "cell_type": "code",
   "execution_count": 16,
   "metadata": {},
   "outputs": [
    {
     "name": "stdout",
     "output_type": "stream",
     "text": [
      "You are Win!!\n",
      "You have: БЛоК\n",
      "20\n",
      "Time: 0.078125\n"
     ]
    }
   ],
   "source": [
    "# Старт таймера\n",
    "StartTime = time.process_time()\n",
    "\n",
    "# Варианты заданий\n",
    "# Start_Key = 'нога'\n",
    "Start_Key = 'БЛоК'\n",
    "# Start_Key = 'В бреду, дескать!.. Ха-ха-ха! Он про весь вечер вчерашний знает! Про приезд матери не знал!.. А ведьма и число прописала карандашом!..'\n",
    "# Start_Key = 'Встретились в Crocus City холле'\n",
    "\n",
    "# Выбор набора символов\n",
    "Part = 1\n",
    "# Размер популяции\n",
    "population_size = 500\n",
    "# Разбиение ключа на слова\n",
    "k = Start_Key.split(\" \")\n",
    "# Если слов в ключе более одного\n",
    "if len(k) > 1:\n",
    "    mass = \"\"\n",
    "    # Перебор по словам\n",
    "    for i in range(0, len(k)):\n",
    "        # Определение ключа\n",
    "        Start_Key = k[i]\n",
    "        # Формирование генов и получение длины ключа \n",
    "        Key, Lenght_Key = identification()\n",
    "        # Формирование набора символов\n",
    "        Symbol = formData()\n",
    "        # Счетчик итераций\n",
    "        count = 1\n",
    "        # Формирование первой популяции\n",
    "        first_population = population()\n",
    "        # Получение результата селекции\n",
    "        Win, Dict = Selection(first_population)\n",
    "        # Пока не будет полного совпадение с ключем, выполняем селекцию\n",
    "        while not Win:\n",
    "            # Селекция новых популяций,первое значение Dict - новая популяция, второе значение Dict - текущая популяция\n",
    "            Win, Dict = Selection(generate_new_population(Dict))\n",
    "            count += 1\n",
    "        # Формирование фразы\n",
    "        mass += Dict + \" \"\n",
    "    print(mass)\n",
    "    # Останов таймера\n",
    "    EndTime = time.process_time()\n",
    "    Time = EndTime - StartTime\n",
    "    print(\"Time: \" + str(Time))\n",
    "# Если слов в ключе менее одного\n",
    "else:\n",
    "    Key, Lenght_Key = identification()\n",
    "    Symbol = formData()\n",
    "    count = 1\n",
    "    first_population = population()\n",
    "    Win, Dict = Selection(first_population)\n",
    "    while not Win:\n",
    "        Win, Dict = Selection(generate_new_population(Dict))\n",
    "        count += 1\n",
    "    print(count)\n",
    "    EndTime = time.process_time()\n",
    "    Time = EndTime - StartTime\n",
    "    print(\"Time: \" + str(Time))"
   ]
  },
  {
   "cell_type": "code",
   "execution_count": 13,
   "metadata": {},
   "outputs": [
    {
     "name": "stdout",
     "output_type": "stream",
     "text": [
      "You are Win!!\n",
      "You have: В\n",
      "You are Win!!\n",
      "You have: бреду,\n",
      "You are Win!!\n",
      "You have: дескать!..\n",
      "You are Win!!\n",
      "You have: Ха-ха-ха!\n",
      "You are Win!!\n",
      "You have: Он\n",
      "You are Win!!\n",
      "You have: про\n",
      "You are Win!!\n",
      "You have: весь\n",
      "You are Win!!\n",
      "You have: вечер\n",
      "You are Win!!\n",
      "You have: вчерашний\n",
      "You are Win!!\n",
      "You have: знает!\n",
      "You are Win!!\n",
      "You have: Про\n",
      "You are Win!!\n",
      "You have: приезд\n",
      "You are Win!!\n",
      "You have: матери\n",
      "You are Win!!\n",
      "You have: не\n",
      "You are Win!!\n",
      "You have: знал!..\n",
      "You are Win!!\n",
      "You have: А\n",
      "You are Win!!\n",
      "You have: ведьма\n",
      "You are Win!!\n",
      "You have: и\n",
      "You are Win!!\n",
      "You have: число\n",
      "You are Win!!\n",
      "You have: прописала\n",
      "You are Win!!\n",
      "You have: карандашом!..\n",
      "В бреду, дескать!.. Ха-ха-ха! Он про весь вечер вчерашний знает! Про приезд матери не знал!.. А ведьма и число прописала карандашом!.. \n",
      "Time: 7.78125\n"
     ]
    }
   ],
   "source": [
    "# Старт таймера\n",
    "StartTime = time.process_time()\n",
    "\n",
    "# Варианты заданий\n",
    "# Start_Key = 'нога'\n",
    "# Start_Key = 'БЛоК'\n",
    "Start_Key = 'В бреду, дескать!.. Ха-ха-ха! Он про весь вечер вчерашний знает! Про приезд матери не знал!.. А ведьма и число прописала карандашом!..'\n",
    "# Start_Key = 'Встретились в Crocus City холле'\n",
    "\n",
    "# Выбор набора символов\n",
    "Part = 2\n",
    "# Размер популяции\n",
    "population_size = 500\n",
    "# Разбиение ключа на слова\n",
    "k = Start_Key.split(\" \")\n",
    "# Если слов в ключе более одного\n",
    "if len(k) > 1:\n",
    "    mass = \"\"\n",
    "    # Перебор по словам\n",
    "    for i in range(0, len(k)):\n",
    "        # Определение ключа\n",
    "        Start_Key = k[i]\n",
    "        # Формирование генов и получение длины ключа \n",
    "        Key, Lenght_Key = identification()\n",
    "        # Формирование набора символов\n",
    "        Symbol = formData()\n",
    "        # Счетчик итераций\n",
    "        count = 1\n",
    "        # Формирование первой популяции\n",
    "        first_population = population()\n",
    "        # Получение результата селекции\n",
    "        Win, Dict = Selection(first_population)\n",
    "        # Пока не будет полного совпадение с ключем, выполняем селекцию\n",
    "        while not Win:\n",
    "            # Селекция новых популяций,первое значение Dict - новая популяция, второе значение Dict - текущая популяция\n",
    "            Win, Dict = Selection(generate_new_population(Dict))\n",
    "            count += 1\n",
    "        # Формирование фразы\n",
    "        mass += Dict + \" \"\n",
    "    print(mass)\n",
    "    # Останов таймера\n",
    "    EndTime = time.process_time()\n",
    "    Time = EndTime - StartTime\n",
    "    print(\"Time: \" + str(Time))\n",
    "# Если слов в ключе менее одного\n",
    "else:\n",
    "    Key, Lenght_Key = identification()\n",
    "    Symbol = formData()\n",
    "    count = 1\n",
    "    first_population = population()\n",
    "    Win, Dict = Selection(first_population)\n",
    "    while not Win:\n",
    "        Win, Dict = Selection(generate_new_population(Dict))\n",
    "        count += 1\n",
    "    print(count)\n",
    "    EndTime = time.process_time()\n",
    "    Time = EndTime - StartTime\n",
    "    print(\"Time: \" + str(Time))"
   ]
  },
  {
   "cell_type": "code",
   "execution_count": 17,
   "metadata": {},
   "outputs": [
    {
     "name": "stdout",
     "output_type": "stream",
     "text": [
      "You are Win!!\n",
      "You have: Встретились\n",
      "You are Win!!\n",
      "You have: в\n",
      "You are Win!!\n",
      "You have: Crocus\n",
      "You are Win!!\n",
      "You have: City\n",
      "You are Win!!\n",
      "You have: холле\n",
      "Встретились в Crocus City холле \n",
      "Time: 2.75\n"
     ]
    }
   ],
   "source": [
    "# Старт таймера\n",
    "StartTime = time.process_time()\n",
    "\n",
    "# Варианты заданий\n",
    "# Start_Key = 'нога'\n",
    "# Start_Key = 'БЛоК'\n",
    "# Start_Key = 'В бреду, дескать!.. Ха-ха-ха! Он про весь вечер вчерашний знает! Про приезд матери не знал!.. А ведьма и число прописала карандашом!..'\n",
    "Start_Key = 'Встретились в Crocus City холле'\n",
    "\n",
    "# Выбор набора символов\n",
    "Part = 3\n",
    "# Размер популяции\n",
    "population_size = 500\n",
    "# Разбиение ключа на слова\n",
    "k = Start_Key.split(\" \")\n",
    "# Если слов в ключе более одного\n",
    "if len(k) > 1:\n",
    "    mass = \"\"\n",
    "    # Перебор по словам\n",
    "    for i in range(0, len(k)):\n",
    "        # Определение ключа\n",
    "        Start_Key = k[i]\n",
    "        # Формирование генов и получение длины ключа \n",
    "        Key, Lenght_Key = identification()\n",
    "        # Формирование набора символов\n",
    "        Symbol = formData()\n",
    "        # Счетчик итераций\n",
    "        count = 1\n",
    "        # Формирование первой популяции\n",
    "        first_population = population()\n",
    "        # Получение результата селекции\n",
    "        Win, Dict = Selection(first_population)\n",
    "        # Пока не будет полного совпадение с ключем, выполняем селекцию\n",
    "        while not Win:\n",
    "            # Селекция новых популяций,первое значение Dict - новая популяция, второе значение Dict - текущая популяция\n",
    "            Win, Dict = Selection(generate_new_population(Dict))\n",
    "            count += 1\n",
    "        # Формирование фразы\n",
    "        mass += Dict + \" \"\n",
    "    print(mass)\n",
    "    # Останов таймера\n",
    "    EndTime = time.process_time()\n",
    "    Time = EndTime - StartTime\n",
    "    print(\"Time: \" + str(Time))\n",
    "# Если слов в ключе менее одного\n",
    "else:\n",
    "    Key, Lenght_Key = identification()\n",
    "    Symbol = formData()\n",
    "    count = 1\n",
    "    first_population = population()\n",
    "    Win, Dict = Selection(first_population)\n",
    "    while not Win:\n",
    "        Win, Dict = Selection(generate_new_population(Dict))\n",
    "        count += 1\n",
    "    print(count)\n",
    "    EndTime = time.process_time()\n",
    "    Time = EndTime - StartTime\n",
    "    print(\"Time: \" + str(Time))"
   ]
  },
  {
   "cell_type": "markdown",
   "metadata": {},
   "source": [
    "### Вывод:"
   ]
  },
  {
   "cell_type": "markdown",
   "metadata": {},
   "source": [
    "По результатам реализации генетического алгоритма можно сделать вывод, что сходимость метода зависит от выбора размера популяции, а также от стратегии поведения операций скрещивания и мутации. При иследовании алгоритма были проведены серии опытов с различными вариациями алгоритма. В начале был реализован механизм одноточечного скрещивания с фиксированной точкой разрыва, при этом варианте слова состоящие из 8 букв находились за 1500 - 000 итерации, при изменении механизма на выбор точки разрыва случайным образом, число итерации сократилось до 100 - 150. Также было предложено улучшение путем добавления инопланетных захватчиков. Этот механизм был протестирован для второго варианта задания. По результатам тестирования время идентификации фразы сократилось с 13.5 с в среднем, до 7.3 с."
   ]
  }
 ],
 "metadata": {
  "kernelspec": {
   "display_name": "Python 3",
   "language": "python",
   "name": "python3"
  },
  "language_info": {
   "codemirror_mode": {
    "name": "ipython",
    "version": 3
   },
   "file_extension": ".py",
   "mimetype": "text/x-python",
   "name": "python",
   "nbconvert_exporter": "python",
   "pygments_lexer": "ipython3",
   "version": "3.7.4"
  }
 },
 "nbformat": 4,
 "nbformat_minor": 4
}
